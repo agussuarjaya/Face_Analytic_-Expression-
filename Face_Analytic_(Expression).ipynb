{
  "nbformat": 4,
  "nbformat_minor": 0,
  "metadata": {
    "colab": {
      "name": "Face_Analytic_(Expression)",
      "provenance": [],
      "collapsed_sections": []
    },
    "kernelspec": {
      "name": "python3",
      "display_name": "Python 3"
    },
    "accelerator": "GPU"
  },
  "cells": [
    {
      "cell_type": "code",
      "metadata": {
        "id": "UM0ajORQX1AT",
        "colab_type": "code",
        "colab": {}
      },
      "source": [
        "\"\"\"\n",
        "\n",
        "Face Analytic (Expression) with TensorFlow  \n",
        "  \n",
        "Copyright 2020  I Made Agus Dwi Suarjaya, Author 2, Author 3, Author 4  \n",
        "  \n",
        "Description     : Try to analyze faces with TensorFlow and classify into 7 expressions (angry, disgust, fear, happy, neutral, sad, surprise)  \n",
        "Dataset source  : https://www.kaggle.com/jonathanoheix/face-expression-recognition-dataset\n",
        "\n",
        "\"\"\""
      ],
      "execution_count": 0,
      "outputs": []
    },
    {
      "cell_type": "code",
      "metadata": {
        "id": "htcZBoji10dU",
        "colab_type": "code",
        "colab": {}
      },
      "source": [
        "#!unzip -q './drive/My Drive/images.zip' -d './'\n",
        "#!cp \"/content/drive/My Drive/1590183629_dict\" ./\n",
        "#!cp \"/content/drive/My Drive/1590183629_model\" ./"
      ],
      "execution_count": 0,
      "outputs": []
    },
    {
      "cell_type": "code",
      "metadata": {
        "id": "nhyRdLBXQKsw",
        "colab_type": "code",
        "colab": {}
      },
      "source": [
        "import csv\n",
        "import time\n",
        "import ast\n",
        "\n",
        "import numpy as np\n",
        "import tensorflow as tf\n",
        "import matplotlib.pyplot as plt\n",
        "\n",
        "from google.colab import files\n",
        "from keras.preprocessing import image\n",
        "from tensorflow.keras.preprocessing.image import ImageDataGenerator"
      ],
      "execution_count": 0,
      "outputs": []
    },
    {
      "cell_type": "code",
      "metadata": {
        "id": "78eXaBXdmwDu",
        "colab_type": "code",
        "colab": {}
      },
      "source": [
        "#---------------------------\n",
        "# Prepare the images dataset\n",
        "#---------------------------\n",
        "TRAINING_DIR = \"./images/train\"\n",
        "train_datagen = ImageDataGenerator( rescale = 1.0/255.,\n",
        "                                    rotation_range=40,\n",
        "                                    width_shift_range=0.2,\n",
        "                                    height_shift_range=0.2,\n",
        "                                    shear_range=0.2,\n",
        "                                    zoom_range=0.2,\n",
        "                                    horizontal_flip=True,\n",
        "                                    fill_mode='nearest')\n",
        "\n",
        "train_generator = train_datagen.flow_from_directory(TRAINING_DIR,\n",
        "                                                    color_mode='grayscale',\n",
        "                                                    batch_size=128,\n",
        "                                                    shuffle=True,\n",
        "                                                    target_size=(48, 48))\n",
        "\n",
        "VALIDATION_DIR = \"./images/validation\"\n",
        "validation_datagen = ImageDataGenerator( rescale = 1.0/255.,)\n",
        "\n",
        "validation_generator = validation_datagen.flow_from_directory(VALIDATION_DIR,\n",
        "                                                         color_mode='grayscale',\n",
        "                                                         batch_size=128,\n",
        "                                                         shuffle=True,\n",
        "                                                         target_size=(48, 48))"
      ],
      "execution_count": 0,
      "outputs": []
    },
    {
      "cell_type": "code",
      "metadata": {
        "id": "k1HwLD3fmE9r",
        "colab_type": "code",
        "colab": {}
      },
      "source": [
        "#---------------------------\n",
        "# Look at the images dataset\n",
        "#---------------------------\n",
        "plt.figure(figsize=(10, 10))\n",
        "images, labels = next(train_generator)\n",
        "for i in range(9):\n",
        "    plt.subplot(3, 3, i + 1)\n",
        "    plt.imshow(images[i].squeeze(), cmap='gray')\n",
        "    plt.axis(\"off\")\n",
        "    for key, value in train_generator.class_indices.items():\n",
        "        if value == np.argmax(labels[i]):\n",
        "            plt.title(key)\n",
        "plt.show()"
      ],
      "execution_count": 0,
      "outputs": []
    },
    {
      "cell_type": "code",
      "metadata": {
        "id": "WEhhIXfml_L1",
        "colab_type": "code",
        "colab": {}
      },
      "source": [
        "#------------------------------\n",
        "# Prepare and compile the model\n",
        "#------------------------------\n",
        "model = tf.keras.models.Sequential([\n",
        "    tf.keras.layers.Conv2D(32, (3,3), activation='relu', input_shape=(48, 48, 1)),\n",
        "    tf.keras.layers.MaxPooling2D(2,2),\n",
        "\n",
        "    tf.keras.layers.Conv2D(128, (3,3), activation='relu'),\n",
        "    tf.keras.layers.MaxPooling2D(2,2),\n",
        "\n",
        "    tf.keras.layers.Conv2D(512, (3,3), activation='relu'),\n",
        "    tf.keras.layers.MaxPooling2D(2,2),\n",
        "    tf.keras.layers.Dropout(0.25),\n",
        "\n",
        "    tf.keras.layers.Conv2D(2048, (3,3), activation='relu'),\n",
        "    tf.keras.layers.MaxPooling2D(2,2),\n",
        "    tf.keras.layers.Dropout(0.25),\n",
        "    \n",
        "    tf.keras.layers.Flatten(),\n",
        "    \n",
        "    tf.keras.layers.Dense(512, activation='relu'),\n",
        "    tf.keras.layers.Dropout(0.25),\n",
        "\n",
        "    tf.keras.layers.Dense(128, activation='relu'),\n",
        "    tf.keras.layers.Dense(32, activation='relu'),\n",
        "    tf.keras.layers.Dense(7, activation='softmax')\n",
        "])\n",
        "\n",
        "model.compile(optimizer=tf.keras.optimizers.Adam(1e-3), loss='categorical_crossentropy', metrics=['acc'])"
      ],
      "execution_count": 0,
      "outputs": []
    },
    {
      "cell_type": "code",
      "metadata": {
        "id": "3IHahJmxmc6Y",
        "colab_type": "code",
        "colab": {}
      },
      "source": [
        "model.summary() # Summary of the model"
      ],
      "execution_count": 0,
      "outputs": []
    },
    {
      "cell_type": "code",
      "metadata": {
        "id": "ipfztOvEl8pz",
        "colab_type": "code",
        "colab": {}
      },
      "source": [
        "#----------------\n",
        "# Train the model\n",
        "#----------------\n",
        "def lr_scheduler(epoch, lr):\n",
        "    lr = 1e-4\n",
        "    return lr\n",
        "\n",
        "callbacks = [tf.keras.callbacks.LearningRateScheduler(lr_scheduler, verbose=1)]\n",
        "\n",
        "history = model.fit_generator(train_generator,\n",
        "                              epochs=100,\n",
        "                              verbose=1,\n",
        "                              callbacks=callbacks,\n",
        "                              validation_data=validation_generator)"
      ],
      "execution_count": 0,
      "outputs": []
    },
    {
      "cell_type": "code",
      "metadata": {
        "id": "vgmBIp07l0Cx",
        "colab_type": "code",
        "colab": {}
      },
      "source": [
        "#-----------------------------------------------------------\n",
        "# Retrieve a list of list results on training and test data\n",
        "# sets for each training epoch\n",
        "#-----------------------------------------------------------\n",
        "acc=history.history['acc']\n",
        "val_acc=history.history['val_acc']\n",
        "loss=history.history['loss']\n",
        "val_loss=history.history['val_loss']\n",
        "\n",
        "epochs=range(len(acc)) # Get number of epochs\n",
        "\n",
        "#------------------------------------------------\n",
        "# Plot training and validation accuracy per epoch\n",
        "#------------------------------------------------\n",
        "plt.plot(epochs, acc, 'r', \"Training Accuracy\")\n",
        "plt.plot(epochs, val_acc, 'b', \"Validation Accuracy\")\n",
        "plt.title('Training and validation accuracy')\n",
        "plt.figure()\n",
        "\n",
        "#------------------------------------------------\n",
        "# Plot training and validation loss per epoch\n",
        "#------------------------------------------------\n",
        "plt.plot(epochs, loss, 'r', \"Training Loss\")\n",
        "plt.plot(epochs, val_loss, 'b', \"Validation Loss\")\n",
        "plt.title('Training and validation loss')"
      ],
      "execution_count": 0,
      "outputs": []
    },
    {
      "cell_type": "code",
      "metadata": {
        "id": "EZHF4IqJ2Uia",
        "colab_type": "code",
        "colab": {}
      },
      "source": [
        "#------------------------------\n",
        "# Save the model and Dictionary\n",
        "#------------------------------\n",
        "t = time.time()\n",
        "\n",
        "export_path_model = \"./{}_model\".format(int(t))\n",
        "model.save(export_path_model, save_format='h5')\n",
        "\n",
        "export_path_dict = \"./{}_dict\".format(int(t))\n",
        "with open(export_path_dict, 'w') as outfile:\n",
        "    outfile.write(str(train_generator.class_indices))"
      ],
      "execution_count": 0,
      "outputs": []
    },
    {
      "cell_type": "code",
      "metadata": {
        "id": "6uevibZ426_2",
        "colab_type": "code",
        "colab": {}
      },
      "source": [
        "#------------------------------\n",
        "# Load the model and Dictionary\n",
        "#------------------------------\n",
        "reloaded_model = tf.keras.models.load_model('/content/1590183629_model')\n",
        "model = reloaded_model\n",
        "\n",
        "with open('/content/1590183629_dict') as dict_file:\n",
        "    d = ast.literal_eval(dict_file.readline())"
      ],
      "execution_count": 0,
      "outputs": []
    },
    {
      "cell_type": "code",
      "metadata": {
        "id": "EAscfy4dHkXS",
        "colab_type": "code",
        "colab": {}
      },
      "source": [
        "#----------------------------------------------\n",
        "# Predict and plot some images (From Generator)\n",
        "#----------------------------------------------\n",
        "plt.figure(figsize=(10, 10))\n",
        "images, labels = next(validation_generator)\n",
        "prediction = model.predict(images)\n",
        "\n",
        "for i in range(9):\n",
        "    plt.subplot(3, 3, i + 1)\n",
        "    plt.imshow(images[i].squeeze(), cmap='gray')\n",
        "    plt.axis(\"off\")\n",
        "    for key, value in d.items():\n",
        "        if value == np.argmax(prediction[i]):\n",
        "            plt.title(key)\n",
        "\n",
        "plt.show()"
      ],
      "execution_count": 0,
      "outputs": []
    },
    {
      "cell_type": "code",
      "metadata": {
        "id": "SRnjHbUsfy_T",
        "colab_type": "code",
        "colab": {}
      },
      "source": [
        "#------------------------------------------\n",
        "# Predict and plot some images (From Colab)\n",
        "#------------------------------------------\n",
        "uploaded = files.upload()\n",
        "plt.figure(figsize=(10, 10))\n",
        "\n",
        "for i, fn in enumerate(uploaded.keys()):\n",
        "  path = '/content/' + fn\n",
        "  img = image.load_img(path, target_size=(48, 48), color_mode=\"grayscale\")\n",
        "  x = image.img_to_array(img)/255\n",
        "  x = np.expand_dims(x, axis=0)\n",
        "\n",
        "  images = np.vstack([x])\n",
        "  prediction = model.predict(images)\n",
        "  plt.subplot(3, 3, i + 1)\n",
        "  plt.imshow(images.squeeze(), cmap='gray')\n",
        "  plt.axis(\"off\")\n",
        "  for key, value in d.items():\n",
        "      if value == np.argmax(prediction[0]):\n",
        "          plt.title(key)\n",
        "\n",
        "plt.show()"
      ],
      "execution_count": 0,
      "outputs": []
    },
    {
      "cell_type": "code",
      "metadata": {
        "id": "xnC4HqDM13Uk",
        "colab_type": "code",
        "colab": {}
      },
      "source": [
        "#--------------------------------------------\n",
        "# Predict and plot some images (From Local)\n",
        "#--------------------------------------------\n",
        "images_path = {'/content/images/validation/sad/32613.jpg',\n",
        "               '/content/images/validation/fear/2226.jpg'}\n",
        "\n",
        "plt.figure(figsize=(10, 10))\n",
        "\n",
        "for i, fn in enumerate(images_path):\n",
        "  path = fn\n",
        "  img = image.load_img(path, target_size=(48, 48), color_mode=\"grayscale\")\n",
        "  x = image.img_to_array(img)/255\n",
        "  x = np.expand_dims(x, axis=0)\n",
        "\n",
        "  images = np.vstack([x])\n",
        "  prediction = model.predict(images)\n",
        "  plt.subplot(3, 3, i + 1)\n",
        "  plt.imshow(images.squeeze(), cmap='gray')\n",
        "  plt.axis(\"off\")\n",
        "  for key, value in d.items():\n",
        "      if value == np.argmax(prediction[0]):\n",
        "          plt.title(key)\n",
        "\n",
        "plt.show()"
      ],
      "execution_count": 0,
      "outputs": []
    }
  ]
}